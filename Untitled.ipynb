{
 "cells": [
  {
   "cell_type": "markdown",
   "id": "69b235a7-0284-45d4-b0ed-8b5d0b2e0f04",
   "metadata": {},
   "source": [
    "https://kapernikov.com/tutorial-image-classification-with-scikit-learn/"
   ]
  },
  {
   "cell_type": "markdown",
   "id": "c9da7c7e-2e8b-4ff6-ba80-68c5a0a16cec",
   "metadata": {},
   "source": [
    "Tutorial: image classification with scikit-learn\n",
    "Published on: April 10, 2018"
   ]
  },
  {
   "cell_type": "markdown",
   "id": "a87622ff-6e96-481c-8a9d-f2a88433069c",
   "metadata": {},
   "source": [
    "In this tutorial, we will set up a machine learning pipeline in scikit-learn to preprocess data and train a model. As a test case, we will classify animal photos, but of course the methods described can be applied to all kinds of machine learning problems. For this tutorial we used scikit-learn version 0.24 with Python 3.9.1, on Linux."
   ]
  },
  {
   "cell_type": "markdown",
   "id": "7101a9b7-5c2b-4982-a933-af246cee31f1",
   "metadata": {},
   "source": [
    "For ease of reading, we will place imports where they are first used, instead of collecting them at the start of the notebook. This to prevent having to scroll up and down to check how an import is exactly done.\n",
    "\n",
    "Throughout the tutorial we will need arrays for our data and graphs for visualisation. Therefore, we import numpy and matplotlib. Furthermore, we start with some magic to specify that we want our graphs shown inline and we import pprint to make some output look nicer."
   ]
  },
  {
   "cell_type": "code",
   "execution_count": 1,
   "id": "125476f3-18eb-48ff-ac76-3e422527a1d3",
   "metadata": {
    "tags": []
   },
   "outputs": [],
   "source": [
    "%matplotlib inline\n",
    " \n",
    "import matplotlib.pyplot as plt\n",
    "import numpy as np\n",
    "import os\n",
    "import pprint\n",
    "pp = pprint.PrettyPrinter(indent=4)"
   ]
  },
  {
   "cell_type": "markdown",
   "id": "03efb86a-2204-43b5-8fdb-b0c0998c9eae",
   "metadata": {},
   "source": [
    "Preparing the data set\n",
    "The dataset that we will use can be found here (https://vcla.stat.ucla.edu/people/zhangzhang-si/HiT/AnimalFace.zip and was published as part of this article (https://vcla.stat.ucla.edu/people/zhangzhang-si/HiT/exp5.html).\n",
    "\n",
    "Unzip the data to a folder, which will be the src path. Next, we define a function to read, resize and store the data in a dictionary, containing the images, labels (animal), original filenames, and a description. The images themselves are stored as numpy arrays containing their RGB values. The dictionary is saved to a pickle file using joblib. The data structure is based on that used for the test data sets in scikit-learn."
   ]
  },
  {
   "cell_type": "code",
   "execution_count": 2,
   "id": "9319bfdb-08c6-4ed6-86bb-a8d1ac85739d",
   "metadata": {
    "tags": []
   },
   "outputs": [],
   "source": [
    "import joblib\n",
    "from skimage.io import imread\n",
    "from skimage.transform import resize\n",
    " \n",
    "def resize_all(src, pklname, include, width=150, height=None):\n",
    "    \"\"\"\n",
    "    load images from path, resize them and write them as arrays to a dictionary, \n",
    "    together with labels and metadata. The dictionary is written to a pickle file \n",
    "    named '{pklname}_{width}x{height}px.pkl'.\n",
    "     \n",
    "    Parameter\n",
    "    ---------\n",
    "    src: str\n",
    "        \"C:\\python_files\\AI_in_biology_spring2024\\AnimalFace\\Image\"\n",
    "    pklname: str\n",
    "        \"C:\\python_files\\AI_in_biology_spring2024\\AnimalFace\\results\"\n",
    "    width: int\n",
    "        target width of the image in pixels\n",
    "    include: set[str]\n",
    "        set containing str\n",
    "    \"\"\"\n",
    "     \n",
    "    height = height if height is not None else width\n",
    "     \n",
    "    data = dict()\n",
    "    data['description'] = 'resized ({0}x{1})animal images in rgb'.format(int(width), int(height))\n",
    "    data['label'] = []\n",
    "    data['filename'] = []\n",
    "    data['data'] = []   \n",
    "     \n",
    "    pklname = f\"{pklname}_{width}x{height}px.pkl\"\n",
    " \n",
    "    # read all images in PATH, resize and write to DESTINATION_PATH\n",
    "    for subdir in os.listdir(src):\n",
    "        if subdir in include:\n",
    "            print(subdir)\n",
    "            current_path = os.path.join(src, subdir)\n",
    " \n",
    "            for file in os.listdir(current_path):\n",
    "                if file[-3:] in {'jpg', 'png'}:\n",
    "                    im = imread(os.path.join(current_path, file))\n",
    "                    im = resize(im, (width, height)) #[:,:,::-1]\n",
    "                    data['label'].append(subdir[:-4])\n",
    "                    data['filename'].append(file)\n",
    "                    data['data'].append(im)\n",
    " \n",
    "        joblib.dump(data, pklname)"
   ]
  },
  {
   "cell_type": "code",
   "execution_count": 3,
   "id": "50a15246-a52c-4bcf-ab76-48dd3b5e1103",
   "metadata": {
    "tags": []
   },
   "outputs": [
    {
     "ename": "FileNotFoundError",
     "evalue": "[Errno 2] No such file or directory: '/home/admontalvo/C:/python_files/AI_in_biology_spring2024/AnimalFace/Image'",
     "output_type": "error",
     "traceback": [
      "\u001b[0;31m---------------------------------------------------------------------------\u001b[0m",
      "\u001b[0;31mFileNotFoundError\u001b[0m                         Traceback (most recent call last)",
      "Cell \u001b[0;32mIn[3], line 3\u001b[0m\n\u001b[1;32m      1\u001b[0m \u001b[38;5;66;03m# modify to fit your system\u001b[39;00m\n\u001b[1;32m      2\u001b[0m data_path \u001b[38;5;241m=\u001b[39m \u001b[38;5;124mfr\u001b[39m\u001b[38;5;124m'\u001b[39m\u001b[38;5;132;01m{\u001b[39;00mos\u001b[38;5;241m.\u001b[39mgetenv(\u001b[38;5;124m\"\u001b[39m\u001b[38;5;124mHOME\u001b[39m\u001b[38;5;124m\"\u001b[39m)\u001b[38;5;132;01m}\u001b[39;00m\u001b[38;5;124m/C:/python_files/AI_in_biology_spring2024/AnimalFace/Image\u001b[39m\u001b[38;5;124m'\u001b[39m \u001b[38;5;66;03m# location of dataset\u001b[39;00m\n\u001b[0;32m----> 3\u001b[0m \u001b[43mos\u001b[49m\u001b[38;5;241;43m.\u001b[39;49m\u001b[43mlistdir\u001b[49m\u001b[43m(\u001b[49m\u001b[43mdata_path\u001b[49m\u001b[43m)\u001b[49m\n",
      "\u001b[0;31mFileNotFoundError\u001b[0m: [Errno 2] No such file or directory: '/home/admontalvo/C:/python_files/AI_in_biology_spring2024/AnimalFace/Image'"
     ]
    }
   ],
   "source": [
    "# modify to fit your system\n",
    "data_path = fr'{os.getenv(\"HOME\")}/C:/python_files/AI_in_biology_spring2024/AnimalFace/Image' # location of dataset\n",
    "os.listdir(data_path)"
   ]
  },
  {
   "cell_type": "code",
   "execution_count": null,
   "id": "c0f1f6f6-3361-45aa-ac2a-d742acaaf99e",
   "metadata": {},
   "outputs": [],
   "source": []
  }
 ],
 "metadata": {
  "kernelspec": {
   "display_name": "UFRC Python-3.10",
   "language": "python",
   "name": "python3-3.10-ufrc"
  },
  "language_info": {
   "codemirror_mode": {
    "name": "ipython",
    "version": 3
   },
   "file_extension": ".py",
   "mimetype": "text/x-python",
   "name": "python",
   "nbconvert_exporter": "python",
   "pygments_lexer": "ipython3",
   "version": "3.10.8"
  }
 },
 "nbformat": 4,
 "nbformat_minor": 5
}
